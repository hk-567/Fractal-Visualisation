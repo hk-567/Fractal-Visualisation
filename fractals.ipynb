{
  "cells": [
    {
      "cell_type": "markdown",
      "metadata": {
        "id": "view-in-github",
        "colab_type": "text"
      },
      "source": [
        "<a href=\"https://colab.research.google.com/github/hk-567/Fractal-Visualisation/blob/main/fractals.ipynb\" target=\"_parent\"><img src=\"https://colab.research.google.com/assets/colab-badge.svg\" alt=\"Open In Colab\"/></a>"
      ]
    },
    {
      "cell_type": "code",
      "execution_count": 33,
      "metadata": {
        "id": "-M4ENo1ALjEF"
      },
      "outputs": [],
      "source": [
        "import matplotlib.pyplot as plt\n",
        "import numpy as np\n",
        "import warnings\n",
        "\n",
        "warnings.filterwarnings(\"ignore\", category=np.VisibleDeprecationWarning)  # NumPy will detect overflows from the numbers squaring\n",
        "                                     # and adding numbers unconditionally, this stops from the warning before calling the function."
      ]
    },
    {
      "cell_type": "code",
      "execution_count": 34,
      "metadata": {
        "id": "c72MvTu63WiR"
      },
      "outputs": [],
      "source": [
        "import ipywidgets as widgets\n",
        "from ipywidgets import interactive"
      ]
    },
    {
      "cell_type": "code",
      "execution_count": 35,
      "metadata": {
        "colab": {
          "base_uri": "https://localhost:8080/"
        },
        "id": "b-6ojmTIP7QF",
        "outputId": "5b47ea98-7c68-46a2-aa3f-7117bd442ebd"
      },
      "outputs": [
        {
          "output_type": "stream",
          "name": "stdout",
          "text": [
            "Drive already mounted at /content/drive; to attempt to forcibly remount, call drive.mount(\"/content/drive\", force_remount=True).\n"
          ]
        }
      ],
      "source": [
        "from google.colab import drive\n",
        "drive.mount('/content/drive')"
      ]
    },
    {
      "cell_type": "code",
      "execution_count": 36,
      "metadata": {
        "id": "6r-eXyJ63YaX"
      },
      "outputs": [],
      "source": [
        "xmin_slider = widgets.FloatSlider(value=-2.0, min=-3.0, max=3.0, step=0.1, description='X-min:')\n",
        "xmax_slider = widgets.FloatSlider(value=1.0, min=-3.0, max=3.0, step=0.1, description='X-max:')\n",
        "ymin_slider = widgets.FloatSlider(value=-1.5, min=-3.0, max=3.0, step=0.1, description='Y-min:')\n",
        "ymax_slider = widgets.FloatSlider(value=1.5, min=-3.0, max=3.0, step=0.1, description='Y-max:')\n"
      ]
    },
    {
      "cell_type": "code",
      "execution_count": 37,
      "metadata": {
        "id": "mH7x2ALp3dK5"
      },
      "outputs": [],
      "source": [
        "def update_mandelbrot(xmin, xmax, ymin, ymax):\n",
        "    c = complex_matrix(xmin, xmax, ymin, ymax, pixel_density=21)\n",
        "    members = get_members(c, num_iterations=20)\n",
        "    plt.scatter(members.real, members.imag, color=\"black\", marker=\",\", s=1)\n",
        "    plt.gca().set_aspect(\"equal\")\n",
        "    plt.axis(\"off\")\n",
        "    plt.tight_layout()\n",
        "    plt.show()\n"
      ]
    },
    {
      "cell_type": "code",
      "execution_count": 38,
      "metadata": {
        "id": "JNeHKgxL3hwQ"
      },
      "outputs": [],
      "source": [
        "interactive_plot = interactive(update_mandelbrot, xmin=xmin_slider, xmax=xmax_slider, ymin=ymin_slider, ymax=ymax_slider)\n"
      ]
    },
    {
      "cell_type": "code",
      "execution_count": 39,
      "metadata": {
        "colab": {
          "base_uri": "https://localhost:8080/",
          "height": 684,
          "referenced_widgets": [
            "b08ed07d311b44e99b6b2311b0ed26a5",
            "ba786f649c0242a8bcdf103911ff8565",
            "fc062b3152134d4b933bf3ce8963156d",
            "be5145df32c644e9b636d98886925609",
            "79dc4500712f435594d6295576162ea8",
            "1cc7ded418244f5ebd18d8129df784d8",
            "0e0b74ac471344cb87dc673f04277402",
            "988d43cc95b44ab084f17678a3aab62b",
            "05cf0f7f82094f3c97f5fe6eb078569c",
            "2a25422a66cf4a1c877510a8d27690ec",
            "a28c8b830043429c8dc7fec78bf88fb4",
            "18ca8fe65c2a4308bc5ab9b923638da8",
            "549c5db15bac4a68be2d71e450f57f10",
            "85d95acb6899474498e17a34ca56526a",
            "45602a18a0a94dbdb5b721978e7cd3cb",
            "fea3efd0e85b405f886d5a34d96cd6f8"
          ]
        },
        "id": "8DK1ZMvl3i23",
        "outputId": "330de7e4-3063-4f43-ab76-30b1f467849a"
      },
      "outputs": [
        {
          "output_type": "display_data",
          "data": {
            "text/plain": [
              "interactive(children=(FloatSlider(value=-2.0, description='X-min:', max=3.0, min=-3.0), FloatSlider(value=1.0,…"
            ],
            "application/vnd.jupyter.widget-view+json": {
              "version_major": 2,
              "version_minor": 0,
              "model_id": "b08ed07d311b44e99b6b2311b0ed26a5"
            }
          },
          "metadata": {}
        }
      ],
      "source": [
        "display(interactive_plot)\n"
      ]
    },
    {
      "cell_type": "code",
      "execution_count": 40,
      "metadata": {
        "id": "r82ZSvtMLnd9"
      },
      "outputs": [],
      "source": [
        "\n",
        "def complex_matrix(xmin, xmax, ymin, ymax, pixel_density):\n",
        "# pixel_density - desired number of pixels per unit\n",
        "    re = np.linspace(xmin, xmax, int((xmax - xmin) * pixel_density))\n",
        "    # np.linspace() creates even spaced numbers in a given range (xmin -xmax)\n",
        "    im = np.linspace(ymin, ymax, int((ymax - ymin) * pixel_density))\n",
        "    return re[np.newaxis, :] + im[:, np.newaxis] * 1j\n",
        "    # this returns a 2D array of complex numbers enclosed in a rectangular area"
      ]
    },
    {
      "cell_type": "code",
      "execution_count": 41,
      "metadata": {
        "id": "nFPcBUfULqGp"
      },
      "outputs": [],
      "source": [
        "def is_stable(c, num_iterations):\n",
        "    z = 0\n",
        "    for _ in range(num_iterations):\n",
        "        z = z ** 2 + c # this ges excecuted for all elements of matric c on each iteration\n",
        "    return abs(z) <= 2\n",
        "    # this recursive formula sees which number remain stable or not and due to Numpy, the matrix can be passed as a single parameter"
      ]
    },
    {
      "cell_type": "code",
      "execution_count": 42,
      "metadata": {
        "id": "LgudIn0RLwM0"
      },
      "outputs": [],
      "source": [
        "def get_members(c, num_iterations):\n",
        "    mask = is_stable(c, num_iterations)\n",
        "    return c[mask] # the boolean mask of stability into the initial complex numbers\n",
        "    # returns a 1D array comprised of the stable complex numbers belonging to the mandelbrot set"
      ]
    },
    {
      "cell_type": "code",
      "execution_count": 43,
      "metadata": {
        "id": "o6RTUQANLwtb",
        "colab": {
          "base_uri": "https://localhost:8080/",
          "height": 556
        },
        "outputId": "41e889d9-d3a2-4605-988d-b3023fc7011f"
      },
      "outputs": [
        {
          "output_type": "stream",
          "name": "stderr",
          "text": [
            "<ipython-input-41-575bab8fce84>:4: RuntimeWarning: overflow encountered in square\n",
            "  z = z ** 2 + c # this ges excecuted for all elements of matric c on each iteration\n",
            "<ipython-input-41-575bab8fce84>:4: RuntimeWarning: invalid value encountered in square\n",
            "  z = z ** 2 + c # this ges excecuted for all elements of matric c on each iteration\n"
          ]
        },
        {
          "output_type": "display_data",
          "data": {
            "text/plain": [
              "<Figure size 640x480 with 1 Axes>"
            ],
            "image/png": "[encoded data removed]"
          },
          "metadata": {}
        }
      ],
      "source": [
        "c = complex_matrix(-2, 0.5, -1.5, 1.5, pixel_density=21)\n",
        "members = get_members(c, num_iterations=20)\n",
        "# get members only passes through only the numbers within the set\n",
        "\n",
        "plt.scatter(members.real, members.imag, color=\"black\", marker=\",\", s=1)\n",
        "# plots the set\n",
        "plt.gca().set_aspect(\"equal\")\n",
        "plt.axis(\"off\")\n",
        "plt.tight_layout()\n",
        "plt.show()\n",
        "# reveals picture\n",
        "# used matplotlib to show a scatter plot\n"
      ]
    },
    {
      "cell_type": "code",
      "execution_count": 44,
      "metadata": {
        "id": "jNIM_R0VOI7o",
        "colab": {
          "base_uri": "https://localhost:8080/",
          "height": 556
        },
        "outputId": "f5aaa4dd-9f61-4257-e880-b1e0785dd5a2"
      },
      "outputs": [
        {
          "output_type": "stream",
          "name": "stderr",
          "text": [
            "<ipython-input-41-575bab8fce84>:4: RuntimeWarning: overflow encountered in square\n",
            "  z = z ** 2 + c # this ges excecuted for all elements of matric c on each iteration\n",
            "<ipython-input-41-575bab8fce84>:4: RuntimeWarning: invalid value encountered in square\n",
            "  z = z ** 2 + c # this ges excecuted for all elements of matric c on each iteration\n"
          ]
        },
        {
          "output_type": "display_data",
          "data": {
            "text/plain": [
              "<Figure size 640x480 with 1 Axes>"
            ],
            "image/png": "[encoded data removed]"
          },
          "metadata": {}
        }
      ],
      "source": [
        "#high resoloution option\n",
        "# using a binary colormap and bumping up the pixel density\n",
        "c = complex_matrix(-2, 0.5, -1.5, 1.5, pixel_density=512)\n",
        "plt.imshow(is_stable(c, num_iterations=20), cmap=\"binary\")\n",
        "plt.gca().set_aspect(\"equal\")\n",
        "plt.axis(\"off\")\n",
        "plt.tight_layout()\n",
        "plt.show()"
      ]
    },
    {
      "cell_type": "code",
      "execution_count": 45,
      "metadata": {
        "id": "NfDevjxq4Oc2"
      },
      "outputs": [],
      "source": [
        "# Define the function to generate the Julia set\n",
        "def generate_julia_set(c, width, height, max_iter):\n",
        "    julia_set = np.zeros((width, height))\n",
        "    x_min, x_max = -2, 2\n",
        "    y_min, y_max = -2, 2\n",
        "    real, imag = np.linspace(x_min, x_max, width), np.linspace(y_min, y_max, height)\n",
        "    complex_plane = np.array(np.meshgrid(real, imag)).T.reshape(-1, 2)\n",
        "\n",
        "    for i in range(width * height):\n",
        "        z = complex_plane[i, 0] + complex_plane[i, 1] * 1j\n",
        "        n = 0\n",
        "        while abs(z) <= 2 and n < max_iter:\n",
        "            z = z * z + c\n",
        "            n += 1\n",
        "        julia_set[i // width, i % width] = n\n",
        "\n",
        "    return julia_set\n"
      ]
    },
    {
      "cell_type": "code",
      "execution_count": 46,
      "metadata": {
        "id": "w3XRsrsi4S5e",
        "colab": {
          "base_uri": "https://localhost:8080/",
          "height": 435
        },
        "outputId": "0b560c05-6a49-4afc-faf6-65b8cfdfce2b"
      },
      "outputs": [
        {
          "output_type": "display_data",
          "data": {
            "text/plain": [
              "<Figure size 640x480 with 2 Axes>"
            ],
            "image/png": "[encoded data removed]"
          },
          "metadata": {}
        }
      ],
      "source": [
        "# Define the complex number for the Julia set\n",
        "c = complex(-0.70176, -0.3842)\n",
        "\n",
        "# Define the width, height, and maximum iterations\n",
        "width, height = 800, 800\n",
        "max_iter = 256\n",
        "\n",
        "# Generate the Julia set\n",
        "julia_set = generate_julia_set(c, width, height, max_iter)\n",
        "\n",
        "# Display the Julia set\n",
        "plt.imshow(julia_set, extent=(-2, 2, -2, 2), cmap='hot')\n",
        "plt.colorbar()\n",
        "plt.show()\n"
      ]
    },
    {
      "cell_type": "code",
      "execution_count": 47,
      "metadata": {
        "id": "WpBaiDs34bdb"
      },
      "outputs": [],
      "source": [
        "# Define the function to generate the Burning Ship fractal\n",
        "def generate_burning_ship(width, height, max_iter):\n",
        "    burning_ship = np.zeros((width, height))\n",
        "    x_min, x_max = -2, 1\n",
        "    y_min, y_max = -2, 2\n",
        "    real, imag = np.linspace(x_min, x_max, width), np.linspace(y_min, y_max, height)\n",
        "    complex_plane = np.array(np.meshgrid(real, imag)).T.reshape(-1, 2)\n",
        "\n",
        "    for i in range(width * height):\n",
        "        z = 0\n",
        "        c = complex_plane[i, 0] + complex_plane[i, 1] * 1j\n",
        "        n = 0\n",
        "        while abs(z) <= 2 and n < max_iter:\n",
        "            z = abs(z.real) + abs(z.imag) * 1j + c\n",
        "            n += 1\n",
        "        burning_ship[i // width, i % width] = n\n",
        "\n",
        "    return burning_ship\n"
      ]
    },
    {
      "cell_type": "code",
      "execution_count": null,
      "metadata": {
        "colab": {
          "background_save": true
        },
        "id": "2E9dgdpl4dRx"
      },
      "outputs": [],
      "source": [
        "# Define the dimensions and maximum iterations\n",
        "width, height = 800, 800\n",
        "max_iter = 256\n",
        "\n",
        "# Generate the Burning Ship fractal\n",
        "burning_ship = generate_burning_ship(width, height, max_iter)\n",
        "\n",
        "# Display the Burning Ship fractal\n",
        "plt.imshow(burning_ship, extent=(-2, 1, -2, 2), cmap='hot')\n",
        "plt.colorbar()\n",
        "plt.show()\n"
      ]
    }
  ],
  "metadata": {
    "colab": {
      "provenance": [],
      "include_colab_link": true
    },
    "kernelspec": {
      "display_name": "Python 3",
      "name": "python3"
    },
    "language_info": {
      "name": "python"
    },
    "widgets": {
      "application/vnd.jupyter.widget-state+json": {
        "b08ed07d311b44e99b6b2311b0ed26a5": {
          "model_module": "@jupyter-widgets/controls",
          "model_name": "VBoxModel",
          "model_module_version": "1.5.0",
          "state": {
            "_dom_classes": [
              "widget-interact"
            ],
            "_model_module": "@jupyter-widgets/controls",
            "_model_module_version": "1.5.0",
            "_model_name": "VBoxModel",
            "_view_count": null,
            "_view_module": "@jupyter-widgets/controls",
            "_view_module_version": "1.5.0",
            "_view_name": "VBoxView",
            "box_style": "",
            "children": [
              "IPY_MODEL_ba786f649c0242a8bcdf103911ff8565",
              "IPY_MODEL_fc062b3152134d4b933bf3ce8963156d",
              "IPY_MODEL_be5145df32c644e9b636d98886925609",
              "IPY_MODEL_79dc4500712f435594d6295576162ea8",
              "IPY_MODEL_1cc7ded418244f5ebd18d8129df784d8"
            ],
            "layout": "IPY_MODEL_0e0b74ac471344cb87dc673f04277402"
          }
        },
        "ba786f649c0242a8bcdf103911ff8565": {
          "model_module": "@jupyter-widgets/controls",
          "model_name": "FloatSliderModel",
          "model_module_version": "1.5.0",
          "state": {
            "_dom_classes": [],
            "_model_module": "@jupyter-widgets/controls",
            "_model_module_version": "1.5.0",
            "_model_name": "FloatSliderModel",
            "_view_count": null,
            "_view_module": "@jupyter-widgets/controls",
            "_view_module_version": "1.5.0",
            "_view_name": "FloatSliderView",
            "continuous_update": true,
            "description": "X-min:",
            "description_tooltip": null,
            "disabled": false,
            "layout": "IPY_MODEL_988d43cc95b44ab084f17678a3aab62b",
            "max": 3,
            "min": -3,
            "orientation": "horizontal",
            "readout": true,
            "readout_format": ".2f",
            "step": 0.1,
            "style": "IPY_MODEL_05cf0f7f82094f3c97f5fe6eb078569c",
            "value": -2
          }
        },
        "fc062b3152134d4b933bf3ce8963156d": {
          "model_module": "@jupyter-widgets/controls",
          "model_name": "FloatSliderModel",
          "model_module_version": "1.5.0",
          "state": {
            "_dom_classes": [],
            "_model_module": "@jupyter-widgets/controls",
            "_model_module_version": "1.5.0",
            "_model_name": "FloatSliderModel",
            "_view_count": null,
            "_view_module": "@jupyter-widgets/controls",
            "_view_module_version": "1.5.0",
            "_view_name": "FloatSliderView",
            "continuous_update": true,
            "description": "X-max:",
            "description_tooltip": null,
            "disabled": false,
            "layout": "IPY_MODEL_2a25422a66cf4a1c877510a8d27690ec",
            "max": 3,
            "min": -3,
            "orientation": "horizontal",
            "readout": true,
            "readout_format": ".2f",
            "step": 0.1,
            "style": "IPY_MODEL_a28c8b830043429c8dc7fec78bf88fb4",
            "value": 1
          }
        },
        "be5145df32c644e9b636d98886925609": {
          "model_module": "@jupyter-widgets/controls",
          "model_name": "FloatSliderModel",
          "model_module_version": "1.5.0",
          "state": {
            "_dom_classes": [],
            "_model_module": "@jupyter-widgets/controls",
            "_model_module_version": "1.5.0",
            "_model_name": "FloatSliderModel",
            "_view_count": null,
            "_view_module": "@jupyter-widgets/controls",
            "_view_module_version": "1.5.0",
            "_view_name": "FloatSliderView",
            "continuous_update": true,
            "description": "Y-min:",
            "description_tooltip": null,
            "disabled": false,
            "layout": "IPY_MODEL_18ca8fe65c2a4308bc5ab9b923638da8",
            "max": 3,
            "min": -3,
            "orientation": "horizontal",
            "readout": true,
            "readout_format": ".2f",
            "step": 0.1,
            "style": "IPY_MODEL_549c5db15bac4a68be2d71e450f57f10",
            "value": -1.5
          }
        },
        "79dc4500712f435594d6295576162ea8": {
          "model_module": "@jupyter-widgets/controls",
          "model_name": "FloatSliderModel",
          "model_module_version": "1.5.0",
          "state": {
            "_dom_classes": [],
            "_model_module": "@jupyter-widgets/controls",
            "_model_module_version": "1.5.0",
            "_model_name": "FloatSliderModel",
            "_view_count": null,
            "_view_module": "@jupyter-widgets/controls",
            "_view_module_version": "1.5.0",
            "_view_name": "FloatSliderView",
            "continuous_update": true,
            "description": "Y-max:",
            "description_tooltip": null,
            "disabled": false,
            "layout": "IPY_MODEL_85d95acb6899474498e17a34ca56526a",
            "max": 3,
            "min": -3,
            "orientation": "horizontal",
            "readout": true,
            "readout_format": ".2f",
            "step": 0.1,
            "style": "IPY_MODEL_45602a18a0a94dbdb5b721978e7cd3cb",
            "value": 1.5
          }
        },
        "1cc7ded418244f5ebd18d8129df784d8": {
          "model_module": "@jupyter-widgets/output",
          "model_name": "OutputModel",
          "model_module_version": "1.0.0",
          "state": {
            "_dom_classes": [],
            "_model_module": "@jupyter-widgets/output",
            "_model_module_version": "1.0.0",
            "_model_name": "OutputModel",
            "_view_count": null,
            "_view_module": "@jupyter-widgets/output",
            "_view_module_version": "1.0.0",
            "_view_name": "OutputView",
            "layout": "IPY_MODEL_fea3efd0e85b405f886d5a34d96cd6f8",
            "msg_id": "",
            "outputs": [
              {
                "output_type": "stream",
                "name": "stderr",
                "text": [
                  "<ipython-input-18-575bab8fce84>:4: RuntimeWarning: overflow encountered in square\n",
                  "  z = z ** 2 + c # this ges excecuted for all elements of matric c on each iteration\n",
                  "<ipython-input-18-575bab8fce84>:4: RuntimeWarning: invalid value encountered in square\n",
                  "  z = z ** 2 + c # this ges excecuted for all elements of matric c on each iteration\n"
                ]
              },
              {
                "output_type": "display_data",
                "data": {
                  "text/plain": "<Figure size 640x480 with 1 Axes>",
                  "image/png": "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\n"
                },
                "metadata": {}
              }
            ]
          }
        },
        "0e0b74ac471344cb87dc673f04277402": {
          "model_module": "@jupyter-widgets/base",
          "model_name": "LayoutModel",
          "model_module_version": "1.2.0",
          "state": {
            "_model_module": "@jupyter-widgets/base",
            "_model_module_version": "1.2.0",
            "_model_name": "LayoutModel",
            "_view_count": null,
            "_view_module": "@jupyter-widgets/base",
            "_view_module_version": "1.2.0",
            "_view_name": "LayoutView",
            "align_content": null,
            "align_items": null,
            "align_self": null,
            "border": null,
            "bottom": null,
            "display": null,
            "flex": null,
            "flex_flow": null,
            "grid_area": null,
            "grid_auto_columns": null,
            "grid_auto_flow": null,
            "grid_auto_rows": null,
            "grid_column": null,
            "grid_gap": null,
            "grid_row": null,
            "grid_template_areas": null,
            "grid_template_columns": null,
            "grid_template_rows": null,
            "height": null,
            "justify_content": null,
            "justify_items": null,
            "left": null,
            "margin": null,
            "max_height": null,
            "max_width": null,
            "min_height": null,
            "min_width": null,
            "object_fit": null,
            "object_position": null,
            "order": null,
            "overflow": null,
            "overflow_x": null,
            "overflow_y": null,
            "padding": null,
            "right": null,
            "top": null,
            "visibility": null,
            "width": null
          }
        },
        "988d43cc95b44ab084f17678a3aab62b": {
          "model_module": "@jupyter-widgets/base",
          "model_name": "LayoutModel",
          "model_module_version": "1.2.0",
          "state": {
            "_model_module": "@jupyter-widgets/base",
            "_model_module_version": "1.2.0",
            "_model_name": "LayoutModel",
            "_view_count": null,
            "_view_module": "@jupyter-widgets/base",
            "_view_module_version": "1.2.0",
            "_view_name": "LayoutView",
            "align_content": null,
            "align_items": null,
            "align_self": null,
            "border": null,
            "bottom": null,
            "display": null,
            "flex": null,
            "flex_flow": null,
            "grid_area": null,
            "grid_auto_columns": null,
            "grid_auto_flow": null,
            "grid_auto_rows": null,
            "grid_column": null,
            "grid_gap": null,
            "grid_row": null,
            "grid_template_areas": null,
            "grid_template_columns": null,
            "grid_template_rows": null,
            "height": null,
            "justify_content": null,
            "justify_items": null,
            "left": null,
            "margin": null,
            "max_height": null,
            "max_width": null,
            "min_height": null,
            "min_width": null,
            "object_fit": null,
            "object_position": null,
            "order": null,
            "overflow": null,
            "overflow_x": null,
            "overflow_y": null,
            "padding": null,
            "right": null,
            "top": null,
            "visibility": null,
            "width": null
          }
        },
        "05cf0f7f82094f3c97f5fe6eb078569c": {
          "model_module": "@jupyter-widgets/controls",
          "model_name": "SliderStyleModel",
          "model_module_version": "1.5.0",
          "state": {
            "_model_module": "@jupyter-widgets/controls",
            "_model_module_version": "1.5.0",
            "_model_name": "SliderStyleModel",
            "_view_count": null,
            "_view_module": "@jupyter-widgets/base",
            "_view_module_version": "1.2.0",
            "_view_name": "StyleView",
            "description_width": "",
            "handle_color": null
          }
        },
        "2a25422a66cf4a1c877510a8d27690ec": {
          "model_module": "@jupyter-widgets/base",
          "model_name": "LayoutModel",
          "model_module_version": "1.2.0",
          "state": {
            "_model_module": "@jupyter-widgets/base",
            "_model_module_version": "1.2.0",
            "_model_name": "LayoutModel",
            "_view_count": null,
            "_view_module": "@jupyter-widgets/base",
            "_view_module_version": "1.2.0",
            "_view_name": "LayoutView",
            "align_content": null,
            "align_items": null,
            "align_self": null,
            "border": null,
            "bottom": null,
            "display": null,
            "flex": null,
            "flex_flow": null,
            "grid_area": null,
            "grid_auto_columns": null,
            "grid_auto_flow": null,
            "grid_auto_rows": null,
            "grid_column": null,
            "grid_gap": null,
            "grid_row": null,
            "grid_template_areas": null,
            "grid_template_columns": null,
            "grid_template_rows": null,
            "height": null,
            "justify_content": null,
            "justify_items": null,
            "left": null,
            "margin": null,
            "max_height": null,
            "max_width": null,
            "min_height": null,
            "min_width": null,
            "object_fit": null,
            "object_position": null,
            "order": null,
            "overflow": null,
            "overflow_x": null,
            "overflow_y": null,
            "padding": null,
            "right": null,
            "top": null,
            "visibility": null,
            "width": null
          }
        },
        "a28c8b830043429c8dc7fec78bf88fb4": {
          "model_module": "@jupyter-widgets/controls",
          "model_name": "SliderStyleModel",
          "model_module_version": "1.5.0",
          "state": {
            "_model_module": "@jupyter-widgets/controls",
            "_model_module_version": "1.5.0",
            "_model_name": "SliderStyleModel",
            "_view_count": null,
            "_view_module": "@jupyter-widgets/base",
            "_view_module_version": "1.2.0",
            "_view_name": "StyleView",
            "description_width": "",
            "handle_color": null
          }
        },
        "18ca8fe65c2a4308bc5ab9b923638da8": {
          "model_module": "@jupyter-widgets/base",
          "model_name": "LayoutModel",
          "model_module_version": "1.2.0",
          "state": {
            "_model_module": "@jupyter-widgets/base",
            "_model_module_version": "1.2.0",
            "_model_name": "LayoutModel",
            "_view_count": null,
            "_view_module": "@jupyter-widgets/base",
            "_view_module_version": "1.2.0",
            "_view_name": "LayoutView",
            "align_content": null,
            "align_items": null,
            "align_self": null,
            "border": null,
            "bottom": null,
            "display": null,
            "flex": null,
            "flex_flow": null,
            "grid_area": null,
            "grid_auto_columns": null,
            "grid_auto_flow": null,
            "grid_auto_rows": null,
            "grid_column": null,
            "grid_gap": null,
            "grid_row": null,
            "grid_template_areas": null,
            "grid_template_columns": null,
            "grid_template_rows": null,
            "height": null,
            "justify_content": null,
            "justify_items": null,
            "left": null,
            "margin": null,
            "max_height": null,
            "max_width": null,
            "min_height": null,
            "min_width": null,
            "object_fit": null,
            "object_position": null,
            "order": null,
            "overflow": null,
            "overflow_x": null,
            "overflow_y": null,
            "padding": null,
            "right": null,
            "top": null,
            "visibility": null,
            "width": null
          }
        },
        "549c5db15bac4a68be2d71e450f57f10": {
          "model_module": "@jupyter-widgets/controls",
          "model_name": "SliderStyleModel",
          "model_module_version": "1.5.0",
          "state": {
            "_model_module": "@jupyter-widgets/controls",
            "_model_module_version": "1.5.0",
            "_model_name": "SliderStyleModel",
            "_view_count": null,
            "_view_module": "@jupyter-widgets/base",
            "_view_module_version": "1.2.0",
            "_view_name": "StyleView",
            "description_width": "",
            "handle_color": null
          }
        },
        "85d95acb6899474498e17a34ca56526a": {
          "model_module": "@jupyter-widgets/base",
          "model_name": "LayoutModel",
          "model_module_version": "1.2.0",
          "state": {
            "_model_module": "@jupyter-widgets/base",
            "_model_module_version": "1.2.0",
            "_model_name": "LayoutModel",
            "_view_count": null,
            "_view_module": "@jupyter-widgets/base",
            "_view_module_version": "1.2.0",
            "_view_name": "LayoutView",
            "align_content": null,
            "align_items": null,
            "align_self": null,
            "border": null,
            "bottom": null,
            "display": null,
            "flex": null,
            "flex_flow": null,
            "grid_area": null,
            "grid_auto_columns": null,
            "grid_auto_flow": null,
            "grid_auto_rows": null,
            "grid_column": null,
            "grid_gap": null,
            "grid_row": null,
            "grid_template_areas": null,
            "grid_template_columns": null,
            "grid_template_rows": null,
            "height": null,
            "justify_content": null,
            "justify_items": null,
            "left": null,
            "margin": null,
            "max_height": null,
            "max_width": null,
            "min_height": null,
            "min_width": null,
            "object_fit": null,
            "object_position": null,
            "order": null,
            "overflow": null,
            "overflow_x": null,
            "overflow_y": null,
            "padding": null,
            "right": null,
            "top": null,
            "visibility": null,
            "width": null
          }
        },
        "45602a18a0a94dbdb5b721978e7cd3cb": {
          "model_module": "@jupyter-widgets/controls",
          "model_name": "SliderStyleModel",
          "model_module_version": "1.5.0",
          "state": {
            "_model_module": "@jupyter-widgets/controls",
            "_model_module_version": "1.5.0",
            "_model_name": "SliderStyleModel",
            "_view_count": null,
            "_view_module": "@jupyter-widgets/base",
            "_view_module_version": "1.2.0",
            "_view_name": "StyleView",
            "description_width": "",
            "handle_color": null
          }
        },
        "fea3efd0e85b405f886d5a34d96cd6f8": {
          "model_module": "@jupyter-widgets/base",
          "model_name": "LayoutModel",
          "model_module_version": "1.2.0",
          "state": {
            "_model_module": "@jupyter-widgets/base",
            "_model_module_version": "1.2.0",
            "_model_name": "LayoutModel",
            "_view_count": null,
            "_view_module": "@jupyter-widgets/base",
            "_view_module_version": "1.2.0",
            "_view_name": "LayoutView",
            "align_content": null,
            "align_items": null,
            "align_self": null,
            "border": null,
            "bottom": null,
            "display": null,
            "flex": null,
            "flex_flow": null,
            "grid_area": null,
            "grid_auto_columns": null,
            "grid_auto_flow": null,
            "grid_auto_rows": null,
            "grid_column": null,
            "grid_gap": null,
            "grid_row": null,
            "grid_template_areas": null,
            "grid_template_columns": null,
            "grid_template_rows": null,
            "height": null,
            "justify_content": null,
            "justify_items": null,
            "left": null,
            "margin": null,
            "max_height": null,
            "max_width": null,
            "min_height": null,
            "min_width": null,
            "object_fit": null,
            "object_position": null,
            "order": null,
            "overflow": null,
            "overflow_x": null,
            "overflow_y": null,
            "padding": null,
            "right": null,
            "top": null,
            "visibility": null,
            "width": null
          }
        }
      }
    }
  },
  "nbformat": 4,
  "nbformat_minor": 0
}